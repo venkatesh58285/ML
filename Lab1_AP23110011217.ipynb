{
  "cells": [
    {
      "cell_type": "markdown",
      "metadata": {
        "id": "view-in-github",
        "colab_type": "text"
      },
      "source": [
        "<a href=\"https://colab.research.google.com/github/venkatesh58285/ML/blob/main/Lab1_AP23110011217.ipynb\" target=\"_parent\"><img src=\"https://colab.research.google.com/assets/colab-badge.svg\" alt=\"Open In Colab\"/></a>"
      ]
    },
    {
      "cell_type": "markdown",
      "id": "20dc80e4",
      "metadata": {
        "id": "20dc80e4"
      },
      "source": [
        "# 🧑‍💻 NumPy Complete Guided Project\n",
        "**Instructor / Student Colab Notebook** – covers *all* key concepts from `Numpy‑1` to `Numpy‑5`.\n",
        "\n",
        "*Generated: 08 Aug 2025*"
      ]
    },
    {
      "cell_type": "markdown",
      "id": "e8b8b6cf",
      "metadata": {
        "id": "e8b8b6cf"
      },
      "source": [
        "\n",
        "**Table of Contents**\n",
        "\n",
        "1. [Setup](#setup)  \n",
        "2. [Array Creation & Dtypes](#creation)  \n",
        "3. [Array Attributes & Inspection](#attributes)  \n",
        "4. [Indexing, Slicing, Fancy Indexing](#indexing)  \n",
        "5. [Reshaping, Transpose & Copies vs Views](#reshape)  \n",
        "6. [Joining, Splitting, Set & Sorting Ops](#join)  \n",
        "7. [Arithmetic Ops, Universal Functions](#arithmetic)  \n",
        "8. [Broadcasting (Rules + Examples)](#broadcast)  \n",
        "9. [Statistics & Aggregations](#stats)  \n",
        "10. [Random Numbers & Reproducibility](#random)  \n",
        "11. [Structured / Recarrays](#structured)  \n",
        "12. [Linear Algebra Essentials](#linalg)  \n",
        "13. [File I/O (`npy`, `npz`, `txt`)](#io)  \n",
        "14. [Datetime64 & Timedelta64](#datetime)  \n",
        "15. [Masked Arrays & NaNs](#mask)  \n",
        "16. [Mini‑Project — Fitness Data Analysis](#project)  \n",
        "17. [Conclusion & Next Steps](#conclusion)  \n"
      ]
    },
    {
      "cell_type": "markdown",
      "id": "9170f3ee",
      "metadata": {
        "id": "9170f3ee"
      },
      "source": [
        "## <a name='setup'></a>1️⃣ Setup"
      ]
    },
    {
      "cell_type": "code",
      "execution_count": null,
      "id": "4f54988f",
      "metadata": {
        "colab": {
          "base_uri": "https://localhost:8080/"
        },
        "id": "4f54988f",
        "outputId": "4886f12d-ef68-4ab4-d463-60ee047ec257"
      },
      "outputs": [
        {
          "output_type": "stream",
          "name": "stdout",
          "text": [
            "NumPy version: 2.0.2\n"
          ]
        }
      ],
      "source": [
        "import numpy as np, math, os, pathlib, types, textwrap, random\n",
        "print('NumPy version:', np.__version__)"
      ]
    },
    {
      "cell_type": "code",
      "source": [],
      "metadata": {
        "id": "F_eW7YhaHw66"
      },
      "id": "F_eW7YhaHw66",
      "execution_count": null,
      "outputs": []
    },
    {
      "cell_type": "markdown",
      "id": "c7f7b2c8",
      "metadata": {
        "id": "c7f7b2c8"
      },
      "source": [
        "## <a name='creation'></a>2️⃣ Array Creation & Dtypes"
      ]
    },
    {
      "cell_type": "markdown",
      "id": "47405152",
      "metadata": {
        "id": "47405152"
      },
      "source": [
        "Key functions: `np.array`, `np.arange`, `np.linspace`, `zeros`, `ones`, `full`, `eye`, `identity`, `diag`, `empty`"
      ]
    },
    {
      "cell_type": "code",
      "execution_count": null,
      "id": "801e99ad",
      "metadata": {
        "colab": {
          "base_uri": "https://localhost:8080/"
        },
        "id": "801e99ad",
        "outputId": "ede42526-ae62-45c5-c44e-632e7f13467a"
      },
      "outputs": [
        {
          "output_type": "stream",
          "name": "stdout",
          "text": [
            "[1 2 3]\n",
            "[0.  0.2 0.4 0.6 0.8 1. ]\n",
            "[[7.5 7.5 7.5]\n",
            " [7.5 7.5 7.5]]\n",
            "dtypes: int32 float64\n"
          ]
        }
      ],
      "source": [
        "# EXAMPLE\n",
        "arr1 = np.array([1, 2, 3], dtype=np.int32)\n",
        "arr2 = np.linspace(0, 1, 6)\n",
        "arr3 = np.full((2,3), 7.5)\n",
        "print(arr1, arr2, arr3, sep=\"\\n\")\n",
        "print(\"dtypes:\", arr1.dtype, arr2.dtype)\n"
      ]
    },
    {
      "cell_type": "code",
      "execution_count": null,
      "id": "dc63d076",
      "metadata": {
        "colab": {
          "base_uri": "https://localhost:8080/"
        },
        "id": "dc63d076",
        "outputId": "31d51987-dcf8-4820-81f0-66aff2fd91d0"
      },
      "outputs": [
        {
          "output_type": "stream",
          "name": "stdout",
          "text": [
            "[[0 1 0 1 0 1 0 1 0 1]\n",
            " [1 0 1 0 1 0 1 0 1 0]\n",
            " [0 1 0 1 0 1 0 1 0 1]\n",
            " [1 0 1 0 1 0 1 0 1 0]\n",
            " [0 1 0 1 0 1 0 1 0 1]\n",
            " [1 0 1 0 1 0 1 0 1 0]\n",
            " [0 1 0 1 0 1 0 1 0 1]\n",
            " [1 0 1 0 1 0 1 0 1 0]\n",
            " [0 1 0 1 0 1 0 1 0 1]\n",
            " [1 0 1 0 1 0 1 0 1 0]]\n"
          ]
        }
      ],
      "source": [
        "# 🖊️ TODO: create a 10×10 chessboard pattern using zeros & ones\n",
        "import numpy as np\n",
        "\n",
        "chessboard = np.zeros((10, 10), dtype=int)\n",
        "chessboard[1::2, ::2] = 1\n",
        "chessboard[::2, 1::2] = 1\n",
        "\n",
        "print(chessboard)\n",
        "\n"
      ]
    },
    {
      "cell_type": "markdown",
      "id": "925be762",
      "metadata": {
        "id": "925be762"
      },
      "source": [
        "## <a name='attributes'></a>3️⃣ Array Attributes & Inspection"
      ]
    },
    {
      "cell_type": "markdown",
      "id": "f103bb36",
      "metadata": {
        "id": "f103bb36"
      },
      "source": [
        "`shape`, `ndim`, `size`, `dtype`, `itemsize`, `nbytes`"
      ]
    },
    {
      "cell_type": "code",
      "execution_count": null,
      "id": "ad3eeda1",
      "metadata": {
        "colab": {
          "base_uri": "https://localhost:8080/"
        },
        "id": "ad3eeda1",
        "outputId": "384f4933-b531-460d-c7ad-25586691473c"
      },
      "outputs": [
        {
          "output_type": "stream",
          "name": "stdout",
          "text": [
            "shape (3, 4) ndim 2 size 12 itemsize 8 total bytes 96\n"
          ]
        }
      ],
      "source": [
        "M = np.arange(12).reshape(3,4)\n",
        "print('shape', M.shape, 'ndim', M.ndim, 'size', M.size, 'itemsize', M.itemsize, 'total bytes', M.nbytes)\n"
      ]
    },
    {
      "cell_type": "code",
      "execution_count": null,
      "id": "5875fefe",
      "metadata": {
        "colab": {
          "base_uri": "https://localhost:8080/"
        },
        "id": "5875fefe",
        "outputId": "1d456f49-d8a6-46c1-d4ce-c1fb83589256"
      },
      "outputs": [
        {
          "output_type": "stream",
          "name": "stdout",
          "text": [
            "8000000\n",
            "7.62939453125\n"
          ]
        }
      ],
      "source": [
        "# 🖊️ TODO: check memory footprint of a 1000×1000 float64 array\n",
        "import numpy as np\n",
        "A = np.zeros((1000,1000),dtype=np.float64).reshape((1000,1000))\n",
        "print(A.nbytes) #bytes\n",
        "print(A.nbytes/1024**2) #mb"
      ]
    },
    {
      "cell_type": "markdown",
      "id": "bd895660",
      "metadata": {
        "id": "bd895660"
      },
      "source": [
        "[link text](https://)## <a name='indexing'></a>4️⃣ Indexing, Slicing & Fancy Indexing"
      ]
    },
    {
      "cell_type": "code",
      "source": [
        "from google.colab import drive\n",
        "drive.mount('/content/drive')"
      ],
      "metadata": {
        "colab": {
          "base_uri": "https://localhost:8080/"
        },
        "id": "MD3_mhnzD0R7",
        "outputId": "9c2d2cb6-ffe8-43fb-e9b4-78ff00f18be5"
      },
      "id": "MD3_mhnzD0R7",
      "execution_count": 35,
      "outputs": [
        {
          "output_type": "stream",
          "name": "stdout",
          "text": [
            "Drive already mounted at /content/drive; to attempt to forcibly remount, call drive.mount(\"/content/drive\", force_remount=True).\n"
          ]
        }
      ]
    },
    {
      "cell_type": "code",
      "execution_count": null,
      "id": "5dc7d4c1",
      "metadata": {
        "colab": {
          "base_uri": "https://localhost:8080/"
        },
        "id": "5dc7d4c1",
        "outputId": "568b6c1d-b38c-49b5-a405-1938e3669610"
      },
      "outputs": [
        {
          "output_type": "stream",
          "name": "stdout",
          "text": [
            "[ 1  6 11 16 21]\n",
            "[[ 1  3  5]\n",
            " [11 13 15]\n",
            " [21 23 25]]\n",
            "multiples of 3: [ 3  6  9 12 15 18 21 24]\n"
          ]
        }
      ],
      "source": [
        "a = np.arange(1,26).reshape(5,5)\n",
        "print(a[:, 0])     # first column\n",
        "print(a[::2, ::2]) # every 2nd row/col\n",
        "mask = (a % 3 == 0)\n",
        "print('multiples of 3:', a[mask])\n"
      ]
    },
    {
      "cell_type": "code",
      "execution_count": null,
      "id": "9c4bd5f4",
      "metadata": {
        "colab": {
          "base_uri": "https://localhost:8080/"
        },
        "id": "9c4bd5f4",
        "outputId": "4e75d802-0f16-4df7-ecbc-1476b99a5dd9"
      },
      "outputs": [
        {
          "output_type": "stream",
          "name": "stdout",
          "text": [
            "[[7 8 9]\n",
            " [4 5 6]\n",
            " [1 2 3]]\n"
          ]
        }
      ],
      "source": [
        "# 🖊️ TODO: use fancy indexing to swap first and last rows of `a`\n",
        "\n",
        "a = np.array([[1, 2, 3],\n",
        "              [4, 5, 6],\n",
        "              [7, 8, 9]])\n",
        "\n",
        "a[[0, -1]] = a[[-1, 0]]\n",
        "\n",
        "print(a)\n"
      ]
    },
    {
      "cell_type": "markdown",
      "id": "8f4de1d5",
      "metadata": {
        "id": "8f4de1d5"
      },
      "source": [
        "## <a name='reshape'></a>5️⃣ Reshaping, Transpose & Copies vs Views"
      ]
    },
    {
      "cell_type": "code",
      "execution_count": null,
      "id": "053b4ff4",
      "metadata": {
        "colab": {
          "base_uri": "https://localhost:8080/"
        },
        "id": "053b4ff4",
        "outputId": "8a27ffbf-7bdf-49e8-ef08-948d584a27ba"
      },
      "outputs": [
        {
          "output_type": "stream",
          "name": "stdout",
          "text": [
            "b is modified: [99  1  2  3  4  5  6  7]\n",
            "b unchanged with copy: [99  1  2  3  4  5  6  7]\n"
          ]
        }
      ],
      "source": [
        "b = np.arange(8)\n",
        "B = b.reshape(2,4)\n",
        "B[0,0] = 99\n",
        "print('b is modified:', b)\n",
        "C = b.reshape(2,4).copy()\n",
        "C[0,0] = -1\n",
        "print('b unchanged with copy:', b)\n"
      ]
    },
    {
      "cell_type": "code",
      "execution_count": null,
      "id": "a3e599bd",
      "metadata": {
        "colab": {
          "base_uri": "https://localhost:8080/"
        },
        "id": "a3e599bd",
        "outputId": "8c0c7dc1-6e39-4f70-f380-7dfc52378988"
      },
      "outputs": [
        {
          "output_type": "stream",
          "name": "stdout",
          "text": [
            "Original array (a):\n",
            "[[[ 0  1  2  3]\n",
            "  [ 4  5  6  7]\n",
            "  [ 8  9 10 11]]\n",
            "\n",
            " [[12 13 14 15]\n",
            "  [16 17 18 19]\n",
            "  [20 21 22 23]]]\n",
            "\n",
            "Using ravel():\n",
            "[ 0  1  2  3  4  5  6  7  8  9 10 11 12 13 14 15 16 17 18 19 20 21 22 23]\n",
            "\n",
            "Using flatten():\n",
            "[ 0  1  2  3  4  5  6  7  8  9 10 11 12 13 14 15 16 17 18 19 20 21 22 23]\n"
          ]
        }
      ],
      "source": [
        "# 🖊️ TODO: Flatten a 3‑D array into 1‑D using both `ravel` and `flatten`; observe copy vs view.\n",
        "import numpy as np\n",
        "\n",
        "# Create a 3D array\n",
        "a = np.arange(2*3*4).reshape((2, 3, 4))\n",
        "print(\"Original array (a):\")\n",
        "print(a)\n",
        "\n",
        "# Using ravel() – returns a view (if possible)\n",
        "r = a.ravel()\n",
        "print(\"\\nUsing ravel():\")\n",
        "print(r)\n",
        "\n",
        "# Using flatten() – always returns a copy\n",
        "f = a.flatten()\n",
        "print(\"\\nUsing flatten():\")\n",
        "print(f)\n"
      ]
    },
    {
      "cell_type": "markdown",
      "id": "2390c4ae",
      "metadata": {
        "id": "2390c4ae"
      },
      "source": [
        "## <a name='join'></a>6️⃣ Joining, Splitting, Set & Sorting Ops"
      ]
    },
    {
      "cell_type": "code",
      "execution_count": null,
      "id": "a53f640a",
      "metadata": {
        "id": "a53f640a"
      },
      "outputs": [],
      "source": [
        "x = np.array([1,3,5]); y = np.array([2,4,6])\n",
        "xy = np.concatenate([x,y])\n",
        "print('union', np.union1d(x,y))\n",
        "print('intersect', np.intersect1d(xy,[1,2,10]))\n",
        "print('sorted descending', np.sort(xy)[::-1])\n"
      ]
    },
    {
      "cell_type": "code",
      "execution_count": null,
      "id": "4231e729",
      "metadata": {
        "id": "4231e729",
        "colab": {
          "base_uri": "https://localhost:8080/"
        },
        "outputId": "f1fc27e7-afc6-4e12-ee97-72eb7e365eb8"
      },
      "outputs": [
        {
          "output_type": "stream",
          "name": "stdout",
          "text": [
            "[0 1 2 3 4]\n",
            "[5 6 7 8 9]\n"
          ]
        }
      ],
      "source": [
        "# 🖊️ TODO: split `xy` back into two equal halves using `np.array_split`\n",
        "import numpy as np\n",
        "ab = np.arange(10)\n",
        "split_ab = np.array_split(ab,2) #can split unevenly as well\n",
        "a = split_ab[0]\n",
        "b = split_ab[1]\n",
        "print(a)\n",
        "print(b)\n"
      ]
    },
    {
      "cell_type": "markdown",
      "id": "e6ebeb68",
      "metadata": {
        "id": "e6ebeb68"
      },
      "source": [
        "## <a name='arithmetic'></a>7️⃣ Arithmetic Ops & Universal Functions"
      ]
    },
    {
      "cell_type": "code",
      "execution_count": null,
      "id": "04a6eda9",
      "metadata": {
        "id": "04a6eda9",
        "colab": {
          "base_uri": "https://localhost:8080/"
        },
        "outputId": "ea6f9660-502b-4e17-fee5-577cbdd84f0d"
      },
      "outputs": [
        {
          "output_type": "stream",
          "name": "stdout",
          "text": [
            "exp [ 1.          2.71828183  7.3890561  20.08553692 54.59815003]\n",
            "sin [ 0.          0.84147098  0.90929743  0.14112001 -0.7568025 ]\n",
            "vectorised addition [10 11 12 13 14]\n"
          ]
        }
      ],
      "source": [
        "v = np.arange(5)\n",
        "print('exp', np.exp(v))\n",
        "print('sin', np.sin(v))\n",
        "print('vectorised addition', v + 10)\n"
      ]
    },
    {
      "cell_type": "code",
      "execution_count": null,
      "id": "c011f422",
      "metadata": {
        "id": "c011f422",
        "colab": {
          "base_uri": "https://localhost:8080/"
        },
        "outputId": "acd1da6a-7776-4afd-f70d-09caf56a4e6d"
      },
      "outputs": [
        {
          "output_type": "stream",
          "name": "stdout",
          "text": [
            "rads [0.         0.52359878 0.78539816 1.04719755 1.57079633]\n",
            "sin values [0.         0.5        0.70710678 0.8660254  1.        ]\n"
          ]
        }
      ],
      "source": [
        "# 🖊️ TODO: given degrees [0,30,45,60,90], compute radians and sin values.\n",
        "degrees = np.array([0,30,45,60,90])\n",
        "rads = np.deg2rad(degrees)\n",
        "print('rads',rads)\n",
        "print('sin values',np.sin(rads))\n"
      ]
    },
    {
      "cell_type": "markdown",
      "id": "7c9a5d70",
      "metadata": {
        "id": "7c9a5d70"
      },
      "source": [
        "## <a name='broadcast'></a>8️⃣ Broadcasting Rules"
      ]
    },
    {
      "cell_type": "markdown",
      "id": "aba2764d",
      "metadata": {
        "id": "aba2764d"
      },
      "source": [
        "Rules: compare dimensions from right → left; stretch size 1 dims; mismatch error."
      ]
    },
    {
      "cell_type": "code",
      "execution_count": null,
      "id": "6313899c",
      "metadata": {
        "id": "6313899c",
        "colab": {
          "base_uri": "https://localhost:8080/"
        },
        "outputId": "071728df-baae-497d-e4e5-3ea4c75b0006"
      },
      "outputs": [
        {
          "output_type": "stream",
          "name": "stdout",
          "text": [
            "[[0 1 2 3 4]\n",
            " [1 2 3 4 5]\n",
            " [2 3 4 5 6]]\n"
          ]
        }
      ],
      "source": [
        "row = np.arange(5)\n",
        "col = np.arange(3).reshape(3,1)\n",
        "matrix = row + col  # broadcast to 3×5\n",
        "print(matrix)\n"
      ]
    },
    {
      "cell_type": "code",
      "execution_count": null,
      "id": "de718119",
      "metadata": {
        "id": "de718119",
        "colab": {
          "base_uri": "https://localhost:8080/"
        },
        "outputId": "8a6c7b27-fce1-4bca-acd9-2096eaacb368"
      },
      "outputs": [
        {
          "output_type": "stream",
          "name": "stdout",
          "text": [
            "10×10 Multiplication Table:\n",
            "[[  1   2   3   4   5   6   7   8   9  10]\n",
            " [  2   4   6   8  10  12  14  16  18  20]\n",
            " [  3   6   9  12  15  18  21  24  27  30]\n",
            " [  4   8  12  16  20  24  28  32  36  40]\n",
            " [  5  10  15  20  25  30  35  40  45  50]\n",
            " [  6  12  18  24  30  36  42  48  54  60]\n",
            " [  7  14  21  28  35  42  49  56  63  70]\n",
            " [  8  16  24  32  40  48  56  64  72  80]\n",
            " [  9  18  27  36  45  54  63  72  81  90]\n",
            " [ 10  20  30  40  50  60  70  80  90 100]]\n"
          ]
        }
      ],
      "source": [
        "# 🖊️ TODO: use broadcasting to create a 10×10 multiplication table.\n",
        "import numpy as np\n",
        "\n",
        "row = np.arange(1, 11)         # shape: (10,)\n",
        "col = np.arange(1, 11).reshape(10, 1)  # shape: (10, 1)\n",
        "\n",
        "table = col * row\n",
        "\n",
        "print(\"10×10 Multiplication Table:\")\n",
        "print(table)\n",
        "\n"
      ]
    },
    {
      "cell_type": "markdown",
      "id": "38a618c8",
      "metadata": {
        "id": "38a618c8"
      },
      "source": [
        "## <a name='stats'></a>9️⃣ Statistics & Aggregations"
      ]
    },
    {
      "cell_type": "code",
      "execution_count": null,
      "id": "af9ac70d",
      "metadata": {
        "id": "af9ac70d",
        "colab": {
          "base_uri": "https://localhost:8080/"
        },
        "outputId": "8251d51b-5a8b-41f6-a8c5-8f2ff2e07f75"
      },
      "outputs": [
        {
          "output_type": "stream",
          "name": "stdout",
          "text": [
            "data\n",
            " [[85 64 51 27]\n",
            " [31  5  8  2]\n",
            " [18 81 65 91]\n",
            " [50 61 97 73]\n",
            " [63 54 56 93]]\n",
            "row sums [227  46 255 281 266]\n",
            "col means [49.4 53.  55.4 57.2]\n"
          ]
        }
      ],
      "source": [
        "data = np.random.default_rng(0).integers(1, 100, size=(5,4))\n",
        "print('data\\n', data)\n",
        "print('row sums', data.sum(axis=1))\n",
        "print('col means', data.mean(axis=0))\n"
      ]
    },
    {
      "cell_type": "code",
      "execution_count": null,
      "id": "63adf5be",
      "metadata": {
        "id": "63adf5be",
        "colab": {
          "base_uri": "https://localhost:8080/"
        },
        "outputId": "eda19fb9-de43-437e-d06c-08a734ab24db"
      },
      "outputs": [
        {
          "output_type": "stream",
          "name": "stdout",
          "text": [
            "25th, 50th, and 75th percentiles of flattened data: [30.  58.5 75. ]\n"
          ]
        }
      ],
      "source": [
        "# 🖊️ TODO: compute `np.percentile` (25th, 50th, 75th) of flattened `data`.\n",
        "\n",
        "percentiles = np.percentile(data.flatten(), [25, 50, 75])\n",
        "print(\"25th, 50th, and 75th percentiles of flattened data:\", percentiles)"
      ]
    },
    {
      "cell_type": "markdown",
      "id": "8f3c00d7",
      "metadata": {
        "id": "8f3c00d7"
      },
      "source": [
        "## <a name='random'></a>🔟 Random Numbers & Reproducibility"
      ]
    },
    {
      "cell_type": "code",
      "execution_count": null,
      "id": "98016975",
      "metadata": {
        "id": "98016975"
      },
      "outputs": [],
      "source": [
        "rng = np.random.default_rng(42)\n",
        "rand_floats = rng.random(5)\n",
        "rand_ints = rng.integers(low=10, high=50, size=5)\n",
        "print(rand_floats, rand_ints)\n",
        "rng2 = np.random.default_rng(42)\n",
        "assert np.allclose(rand_floats, rng2.random(5))\n"
      ]
    },
    {
      "cell_type": "code",
      "execution_count": null,
      "id": "35dbadba",
      "metadata": {
        "id": "35dbadba",
        "colab": {
          "base_uri": "https://localhost:8080/"
        },
        "outputId": "97a1564f-f697-44db-a837-a750075a02bc"
      },
      "outputs": [
        {
          "output_type": "stream",
          "name": "stdout",
          "text": [
            "Number of rolls: 100\n",
            "Number of 6s: 25\n",
            "Estimated proportion of 6s: 0.2500\n"
          ]
        }
      ],
      "source": [
        "# 🖊️ TODO: simulate rolling a fair six‑sided die 100 times; estimate proportion of 6s.\n",
        "rng = np.random.default_rng() # Using a new random number generator instance\n",
        "num_rolls = 100\n",
        "rolls = rng.integers(1, 7, size=num_rolls) # Simulate 100 rolls (integers from 1 to 6 inclusive)\n",
        "\n",
        "# Count the number of 6s\n",
        "num_sixes = np.sum(rolls == 6)\n",
        "\n",
        "# Estimate the proportion of 6s\n",
        "proportion_sixes = num_sixes / num_rolls\n",
        "\n",
        "print(f\"Number of rolls: {num_rolls}\")\n",
        "print(f\"Number of 6s: {num_sixes}\")\n",
        "print(f\"Estimated proportion of 6s: {proportion_sixes:.4f}\")"
      ]
    },
    {
      "cell_type": "markdown",
      "id": "6cdb04b2",
      "metadata": {
        "id": "6cdb04b2"
      },
      "source": [
        "## <a name='structured'></a>1️⃣1️⃣ Structured / Record Arrays"
      ]
    },
    {
      "cell_type": "code",
      "execution_count": null,
      "id": "d8f64e42",
      "metadata": {
        "id": "d8f64e42",
        "colab": {
          "base_uri": "https://localhost:8080/"
        },
        "outputId": "70297aeb-b5d7-439a-9a1f-3c4308a6cc3f"
      },
      "outputs": [
        {
          "output_type": "stream",
          "name": "stdout",
          "text": [
            "['Alice' 'Bob'] 27.5\n"
          ]
        }
      ],
      "source": [
        "people = np.array([('Alice', 25, 55.0), ('Bob', 30, 85.5)],\n",
        "                   dtype=[('name','U10'), ('age','i4'), ('weight','f4')])\n",
        "print(people['name'], people['age'].mean())\n"
      ]
    },
    {
      "cell_type": "code",
      "execution_count": null,
      "id": "7a65fe1d",
      "metadata": {
        "id": "7a65fe1d",
        "colab": {
          "base_uri": "https://localhost:8080/",
          "height": 69
        },
        "outputId": "9562a310-73ba-4a80-b510-ba1847c58f5a"
      },
      "outputs": [
        {
          "output_type": "stream",
          "name": "stdout",
          "text": [
            "Structured array with 'height' field:\n"
          ]
        },
        {
          "output_type": "display_data",
          "data": {
            "text/plain": [
              "array([('Alice', 25, 55. , 165.5), ('Bob', 30, 85.5, 180. )],\n",
              "      dtype=[('name', '<U10'), ('age', '<i4'), ('weight', '<f4'), ('height', '<f4')])"
            ]
          },
          "metadata": {}
        }
      ],
      "source": [
        "# 🖊️ TODO: add a new field 'height' to the structured array using `np.lib.recfunctions.append_fields` (hint: pip install?).\n",
        "from numpy.lib.recfunctions import append_fields\n",
        "\n",
        "# Sample height data (replace with actual data)\n",
        "height_data = np.array([165.5, 180.0], dtype='f4') # Example heights for Alice and Bob\n",
        "\n",
        "# Append the 'height' field\n",
        "people_with_height = append_fields(people, 'height', height_data, usemask=False)\n",
        "\n",
        "print(\"Structured array with 'height' field:\")\n",
        "display(people_with_height)\n",
        "\n"
      ]
    },
    {
      "cell_type": "markdown",
      "id": "df5b617b",
      "metadata": {
        "id": "df5b617b"
      },
      "source": [
        "## <a name='linalg'></a>1️⃣2️⃣ Linear Algebra Essentials"
      ]
    },
    {
      "cell_type": "code",
      "execution_count": null,
      "id": "3f7fb475",
      "metadata": {
        "id": "3f7fb475",
        "colab": {
          "base_uri": "https://localhost:8080/"
        },
        "outputId": "a7574d91-b09f-431a-c163-25f71a38e588"
      },
      "outputs": [
        {
          "output_type": "stream",
          "name": "stdout",
          "text": [
            "A·x ≈ b? True\n"
          ]
        }
      ],
      "source": [
        "A = np.random.random((3,3))\n",
        "b = np.random.random(3)\n",
        "x = np.linalg.solve(A, b)\n",
        "print('A·x ≈ b?', np.allclose(A.dot(x), b))\n"
      ]
    },
    {
      "cell_type": "code",
      "execution_count": null,
      "id": "a8fb02d7",
      "metadata": {
        "id": "a8fb02d7",
        "colab": {
          "base_uri": "https://localhost:8080/"
        },
        "outputId": "e4bd370a-063f-4789-9c62-cc8741b276a9"
      },
      "outputs": [
        {
          "output_type": "stream",
          "name": "stdout",
          "text": [
            "Eigenvalues of A:\n",
            "[ 1.48615964  0.62761295 -0.10858378]\n"
          ]
        }
      ],
      "source": [
        "# 🖊️ TODO: compute eigenvalues of `A` using `np.linalg.eig`.\n",
        "eigenvalues, eigenvectors = np.linalg.eig(A)\n",
        "\n",
        "print(\"Eigenvalues of A:\")\n",
        "print(eigenvalues)\n",
        "# You can also print eigenvectors if needed:\n",
        "# print(\"\\nEigenvectors of A:\")\n",
        "# print(eigenvectors)"
      ]
    },
    {
      "cell_type": "markdown",
      "id": "e8fd753c",
      "metadata": {
        "id": "e8fd753c"
      },
      "source": [
        "## <a name='io'></a>1️⃣3️⃣ File I/O (`npy`, `npz`, `txt`)"
      ]
    },
    {
      "cell_type": "code",
      "execution_count": null,
      "id": "bd6dc026",
      "metadata": {
        "id": "bd6dc026",
        "colab": {
          "base_uri": "https://localhost:8080/"
        },
        "outputId": "1243c6ec-054a-4d77-99b9-bedbc3959d9e"
      },
      "outputs": [
        {
          "output_type": "stream",
          "name": "stdout",
          "text": [
            "loaded equals A? True\n"
          ]
        }
      ],
      "source": [
        "np.save('array.npy', A)\n",
        "loaded = np.load('array.npy')\n",
        "print('loaded equals A?', np.allclose(loaded, A))\n",
        "np.savez('multi_arrays.npz', A=A, b=b)\n"
      ]
    },
    {
      "cell_type": "code",
      "execution_count": null,
      "id": "d9552893",
      "metadata": {
        "id": "d9552893",
        "colab": {
          "base_uri": "https://localhost:8080/"
        },
        "outputId": "de7e5618-5825-43b8-9eb0-efa3b780ecf4"
      },
      "outputs": [
        {
          "output_type": "stream",
          "name": "stdout",
          "text": [
            "Data saved to data.csv\n",
            "\n",
            "Data loaded from data.csv:\n",
            "[[85. 64. 51. 27.]\n",
            " [31.  5.  8.  2.]\n",
            " [18. 81. 65. 91.]\n",
            " [50. 61. 97. 73.]\n",
            " [63. 54. 56. 93.]]\n",
            "\n",
            "Loaded data equals original data? True\n"
          ]
        }
      ],
      "source": [
        "# 🖊️ TODO: Use `np.savetxt` to write `data` (from stats section) to CSV then reload with `np.loadtxt`.\n",
        "file_path = 'data.csv'\n",
        "np.savetxt(file_path, data, delimiter=',')\n",
        "print(f\"Data saved to {file_path}\")\n",
        "\n",
        "# Load data from the CSV file\n",
        "loaded_data = np.loadtxt(file_path, delimiter=',')\n",
        "print(f\"\\nData loaded from {file_path}:\")\n",
        "print(loaded_data)\n",
        "\n",
        "# Verify that the loaded data is the same as the original data\n",
        "print(\"\\nLoaded data equals original data?\", np.allclose(loaded_data, data))\n"
      ]
    },
    {
      "cell_type": "markdown",
      "id": "f24f33e3",
      "metadata": {
        "id": "f24f33e3"
      },
      "source": [
        "## <a name='datetime'></a>1️⃣4️⃣ Datetime64 & Timedelta64"
      ]
    },
    {
      "cell_type": "code",
      "execution_count": null,
      "id": "3ce7b543",
      "metadata": {
        "id": "3ce7b543",
        "colab": {
          "base_uri": "https://localhost:8080/"
        },
        "outputId": "bc858a77-e8bb-4e55-d930-077024e75060"
      },
      "outputs": [
        {
          "output_type": "stream",
          "name": "stdout",
          "text": [
            "['2023-01-01' '2023-01-02' '2023-01-03' '2023-01-04' '2023-01-05'] 1 days\n"
          ]
        }
      ],
      "source": [
        "dates = np.arange('2023-01', '2023-04', dtype='datetime64[D]')\n",
        "delta = dates[1:] - dates[:-1]\n",
        "print(dates[:5], delta[0])\n"
      ]
    },
    {
      "cell_type": "code",
      "execution_count": null,
      "id": "e493d6f8",
      "metadata": {
        "id": "e493d6f8",
        "colab": {
          "base_uri": "https://localhost:8080/"
        },
        "outputId": "d4ab723c-b1ae-4fd6-9993-400585835519"
      },
      "outputs": [
        {
          "output_type": "stream",
          "name": "stdout",
          "text": [
            "The 'dates' array contains 0 Mondays.\n"
          ]
        }
      ],
      "source": [
        "# 🖊️ TODO: find how many Mondays appear in `dates` array.\n",
        "mondays_count = np.sum(dates.astype('datetime64[W]').astype(int) == 0)\n",
        "\n",
        "print(f\"The 'dates' array contains {mondays_count} Mondays.\")"
      ]
    },
    {
      "cell_type": "markdown",
      "id": "636116b9",
      "metadata": {
        "id": "636116b9"
      },
      "source": [
        "## <a name='mask'></a>1️⃣5️⃣ Masked Arrays & NaNs"
      ]
    },
    {
      "cell_type": "code",
      "execution_count": null,
      "id": "ec30b3ee",
      "metadata": {
        "id": "ec30b3ee",
        "colab": {
          "base_uri": "https://localhost:8080/"
        },
        "outputId": "f30835b3-e444-4322-cfc5-8ad967211acd"
      },
      "outputs": [
        {
          "output_type": "stream",
          "name": "stdout",
          "text": [
            "2.3333333333333335\n"
          ]
        }
      ],
      "source": [
        "arr = np.array([1, 2, np.nan, 4, np.nan])\n",
        "masked = np.ma.masked_invalid(arr)\n",
        "print(masked.mean())\n"
      ]
    },
    {
      "cell_type": "code",
      "execution_count": null,
      "id": "1ead3a9c",
      "metadata": {
        "id": "1ead3a9c",
        "colab": {
          "base_uri": "https://localhost:8080/"
        },
        "outputId": "690a6996-be41-45dd-ebde-321b27987092"
      },
      "outputs": [
        {
          "output_type": "stream",
          "name": "stdout",
          "text": [
            "Original array with NaNs:\n",
            "[[ 1.  2. nan  4.]\n",
            " [ 5. nan  7.  8.]\n",
            " [ 9. 10. 11. nan]\n",
            " [13. 14. 15. 16.]]\n"
          ]
        }
      ],
      "source": [
        "# 🖊️ TODO: replace NaNs with column means in a 2‑D array containing NaNs.\n",
        "data_with_nan = np.array([[1, 2, np.nan, 4],\n",
        "                          [5, np.nan, 7, 8],\n",
        "                          [9, 10, 11, np.nan],\n",
        "                          [13, 14, 15, 16]])\n",
        "\n",
        "print(\"Original array with NaNs:\")\n",
        "print(data_with_nan)\n"
      ]
    },
    {
      "cell_type": "markdown",
      "id": "509e6104",
      "metadata": {
        "id": "509e6104"
      },
      "source": [
        "## <a name='project'></a>1️⃣6️⃣ Mini‑Project: Fitness Data Analysis"
      ]
    },
    {
      "cell_type": "markdown",
      "id": "d867d3a6",
      "metadata": {
        "id": "d867d3a6"
      },
      "source": [
        "Load `fitness.txt` (tab‑separated) then follow prompts."
      ]
    },
    {
      "cell_type": "code",
      "execution_count": 44,
      "id": "593e50db",
      "metadata": {
        "id": "593e50db",
        "colab": {
          "base_uri": "https://localhost:8080/"
        },
        "outputId": "5182163e-4030-4ccf-bb68-706e7aaa42ff"
      },
      "outputs": [
        {
          "output_type": "stream",
          "name": "stdout",
          "text": [
            "columns: ('date', 'step_count', 'mood', 'calories_burned', 'hours_of_sleep', 'bool_of_active', 'weight_kg') rows: 96\n"
          ]
        }
      ],
      "source": [
        "fitness = np.genfromtxt('fitness.txt', delimiter='\\t', dtype=None, encoding=None, names=True)\n",
        "print('columns:', fitness.dtype.names, 'rows:', len(fitness))\n"
      ]
    },
    {
      "cell_type": "code",
      "execution_count": 45,
      "id": "32e514d2",
      "metadata": {
        "id": "32e514d2",
        "colab": {
          "base_uri": "https://localhost:8080/"
        },
        "outputId": "9e192b87-f3e7-4667-db17-b021138c627c"
      },
      "outputs": [
        {
          "output_type": "stream",
          "name": "stdout",
          "text": [
            "Monthly Step Count:\n",
            "2017-06: 5464\n",
            "2017-07: 6041\n",
            "2017-08: 25\n",
            "2017-09: 5461\n",
            "2017-10: 53175\n",
            "2017-11: 107616\n",
            "2017-12: 93905\n",
            "2018-01: 10163\n"
          ]
        }
      ],
      "source": [
        "# 🖊️ TODO: Monthly step count, sleep vs mood correlation, weekly summary, etc.\n",
        "import datetime\n",
        "\n",
        "# 1. Ensure the 'date' column is datetime64\n",
        "# Convert the string dates to datetime64 using datetime.strptime and specifying the format\n",
        "converted_dates = []\n",
        "# Assuming the format is 'MM-DD-YYYY' based on the previous error\n",
        "date_format = '%m-%d-%Y'\n",
        "for d_str in fitness['date']:\n",
        "    try:\n",
        "        dt_obj = datetime.datetime.strptime(d_str, date_format)\n",
        "        converted_dates.append(np.datetime64(dt_obj))\n",
        "    except ValueError:\n",
        "        # If 'MM-DD-YYYY' fails, try 'DD-MM-YYYY'\n",
        "        date_format = '%d-%m-%Y'\n",
        "        dt_obj = datetime.datetime.strptime(d_str, date_format)\n",
        "        converted_dates.append(np.datetime64(dt_obj))\n",
        "\n",
        "\n",
        "fitness['date'] = np.array(converted_dates, dtype='datetime64[D]')\n",
        "# 2. Extract the month and 3. Group by month\n",
        "# Create a new array with month and year for grouping\n",
        "months = fitness['date'].astype('datetime64[M]')\n",
        "\n",
        "# Use np.unique to get unique months and their indices\n",
        "unique_months, month_indices = np.unique(months, return_inverse=True)\n",
        "\n",
        "# 4. Calculate the sum of 'step_count' for each month\n",
        "monthly_step_count = np.bincount(month_indices, weights=fitness['step_count'])\n",
        "\n",
        "# 5. Print the monthly step count analysis results\n",
        "print(\"Monthly Step Count:\")\n",
        "for i, month in enumerate(unique_months):\n",
        "    print(f\"{month.astype('datetime64[M]').item().strftime('%Y-%m')}: {monthly_step_count[i]:.0f}\")"
      ]
    },
    {
      "cell_type": "code",
      "source": [
        "# 1. Extract the 'hours_of_sleep' and 'mood' columns\n",
        "hours_of_sleep = fitness['hours_of_sleep']\n",
        "mood = fitness['mood']\n",
        "\n",
        "# 2. Calculate the Pearson correlation coefficient\n",
        "# np.corrcoef returns a 2x2 matrix, the off-diagonal elements are the correlation coefficients\n",
        "correlation_matrix = np.corrcoef(hours_of_sleep, mood)\n",
        "correlation_coefficient = correlation_matrix[0, 1]\n",
        "\n",
        "# 3. Print the calculated correlation coefficient\n",
        "print(f\"Correlation coefficient between hours of sleep and mood: {correlation_coefficient:.4f}\")"
      ],
      "metadata": {
        "colab": {
          "base_uri": "https://localhost:8080/"
        },
        "id": "RcaOUEsArA8U",
        "outputId": "7dbcfd09-1909-426f-c22e-c4ecc668cc18"
      },
      "id": "RcaOUEsArA8U",
      "execution_count": 46,
      "outputs": [
        {
          "output_type": "stream",
          "name": "stdout",
          "text": [
            "Correlation coefficient between hours of sleep and mood: 0.2104\n"
          ]
        }
      ]
    },
    {
      "cell_type": "code",
      "source": [
        "# 1. Extract the required columns\n",
        "dates = fitness['date']\n",
        "step_counts = fitness['step_count']\n",
        "calories_burned = fitness['calories_burned']\n",
        "hours_of_sleep = fitness['hours_of_sleep']\n",
        "\n",
        "# 2. Convert the 'date' column to datetime64[W] to group data by week\n",
        "weekly_dates = dates.astype('datetime64[W]')\n",
        "\n",
        "# 3. Use np.unique with return_inverse=True on the weekly dates\n",
        "unique_weeks, week_indices = np.unique(weekly_dates, return_inverse=True)\n",
        "\n",
        "# 4. Calculate the sum of 'step_count' and 'calories_burned' for each week\n",
        "weekly_step_count = np.bincount(week_indices, weights=step_counts)\n",
        "weekly_calories_burned = np.bincount(week_indices, weights=calories_burned)\n",
        "\n",
        "# 5. Calculate the average of 'hours_of_sleep' for each week\n",
        "weekly_sleep_sum = np.bincount(week_indices, weights=hours_of_sleep)\n",
        "weekly_counts = np.bincount(week_indices) # Count of entries per week\n",
        "weekly_sleep_avg = weekly_sleep_sum / weekly_counts\n",
        "\n",
        "# 6. Iterate through the unique weeks and print the weekly summary\n",
        "print(\"Weekly Fitness Summary:\")\n",
        "for i, week_start_date in enumerate(unique_weeks):\n",
        "    # Format the week start date for readability (e.g., YYYY-MM-DD)\n",
        "    formatted_date = week_start_date.astype(datetime.datetime).strftime('%Y-%m-%d')\n",
        "    print(f\"Week starting {formatted_date}:\")\n",
        "    print(f\"  Total Steps: {weekly_step_count[i]:.0f}\")\n",
        "    print(f\"  Total Calories Burned: {weekly_calories_burned[i]:.0f}\")\n",
        "    print(f\"  Average Hours of Sleep: {weekly_sleep_avg[i]:.2f}\\n\")"
      ],
      "metadata": {
        "colab": {
          "base_uri": "https://localhost:8080/"
        },
        "id": "sI-HwM76rJxH",
        "outputId": "e84c70de-423d-4491-a396-565247cca3de"
      },
      "id": "sI-HwM76rJxH",
      "execution_count": 47,
      "outputs": [
        {
          "output_type": "stream",
          "name": "stdout",
          "text": [
            "Weekly Fitness Summary:\n",
            "Week starting 2017-06-08:\n",
            "  Total Steps: 5464\n",
            "  Total Calories Burned: 181\n",
            "  Average Hours of Sleep: 5.00\n",
            "\n",
            "Week starting 2017-07-06:\n",
            "  Total Steps: 6041\n",
            "  Total Calories Burned: 197\n",
            "  Average Hours of Sleep: 8.00\n",
            "\n",
            "Week starting 2017-08-10:\n",
            "  Total Steps: 25\n",
            "  Total Calories Burned: 0\n",
            "  Average Hours of Sleep: 5.00\n",
            "\n",
            "Week starting 2017-09-07:\n",
            "  Total Steps: 5461\n",
            "  Total Calories Burned: 174\n",
            "  Average Hours of Sleep: 4.00\n",
            "\n",
            "Week starting 2017-10-05:\n",
            "  Total Steps: 6915\n",
            "  Total Calories Burned: 223\n",
            "  Average Hours of Sleep: 5.00\n",
            "\n",
            "Week starting 2017-10-12:\n",
            "  Total Steps: 15116\n",
            "  Total Calories Burned: 482\n",
            "  Average Hours of Sleep: 6.17\n",
            "\n",
            "Week starting 2017-10-19:\n",
            "  Total Steps: 19524\n",
            "  Total Calories Burned: 621\n",
            "  Average Hours of Sleep: 5.71\n",
            "\n",
            "Week starting 2017-10-26:\n",
            "  Total Steps: 16055\n",
            "  Total Calories Burned: 517\n",
            "  Average Hours of Sleep: 6.14\n",
            "\n",
            "Week starting 2017-11-02:\n",
            "  Total Steps: 24977\n",
            "  Total Calories Burned: 811\n",
            "  Average Hours of Sleep: 3.86\n",
            "\n",
            "Week starting 2017-11-09:\n",
            "  Total Steps: 32223\n",
            "  Total Calories Burned: 1056\n",
            "  Average Hours of Sleep: 5.88\n",
            "\n",
            "Week starting 2017-11-16:\n",
            "  Total Steps: 20375\n",
            "  Total Calories Burned: 668\n",
            "  Average Hours of Sleep: 5.43\n",
            "\n",
            "Week starting 2017-11-23:\n",
            "  Total Steps: 21998\n",
            "  Total Calories Burned: 721\n",
            "  Average Hours of Sleep: 6.14\n",
            "\n",
            "Week starting 2017-11-30:\n",
            "  Total Steps: 20393\n",
            "  Total Calories Burned: 654\n",
            "  Average Hours of Sleep: 7.00\n",
            "\n",
            "Week starting 2017-12-07:\n",
            "  Total Steps: 26834\n",
            "  Total Calories Burned: 860\n",
            "  Average Hours of Sleep: 4.38\n",
            "\n",
            "Week starting 2017-12-14:\n",
            "  Total Steps: 22428\n",
            "  Total Calories Burned: 729\n",
            "  Average Hours of Sleep: 4.43\n",
            "\n",
            "Week starting 2017-12-21:\n",
            "  Total Steps: 19203\n",
            "  Total Calories Burned: 628\n",
            "  Average Hours of Sleep: 4.43\n",
            "\n",
            "Week starting 2017-12-28:\n",
            "  Total Steps: 13000\n",
            "  Total Calories Burned: 422\n",
            "  Average Hours of Sleep: 3.57\n",
            "\n",
            "Week starting 2018-01-04:\n",
            "  Total Steps: 5818\n",
            "  Total Calories Burned: 27\n",
            "  Average Hours of Sleep: 4.67\n",
            "\n"
          ]
        }
      ]
    },
    {
      "cell_type": "markdown",
      "id": "e7c0e1dc",
      "metadata": {
        "id": "e7c0e1dc"
      },
      "source": [
        "## <a name='conclusion'></a>1️⃣7️⃣ Conclusion & Further Practice\n",
        "Congrats on covering **all core NumPy topics** from your five lecture notebooks!\n",
        "\n",
        "*Keep experimenting, read the official docs, and try converting your NumPy pipelines into Pandas or JAX for more fun.*"
      ]
    }
  ],
  "metadata": {
    "colab": {
      "provenance": [],
      "include_colab_link": true
    },
    "language_info": {
      "name": "python"
    },
    "kernelspec": {
      "name": "python3",
      "display_name": "Python 3"
    }
  },
  "nbformat": 4,
  "nbformat_minor": 5
}