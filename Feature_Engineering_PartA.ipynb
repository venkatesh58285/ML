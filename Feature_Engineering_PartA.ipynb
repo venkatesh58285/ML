{
  "cells": [
    {
      "cell_type": "markdown",
      "metadata": {
        "id": "view-in-github",
        "colab_type": "text"
      },
      "source": [
        "<a href=\"https://colab.research.google.com/github/venkatesh58285/ML/blob/main/Feature_Engineering_PartA.ipynb\" target=\"_parent\"><img src=\"https://colab.research.google.com/assets/colab-badge.svg\" alt=\"Open In Colab\"/></a>"
      ]
    },
    {
      "cell_type": "markdown",
      "id": "7b5d3ee0",
      "metadata": {
        "id": "7b5d3ee0"
      },
      "source": [
        "# 🎯 Feature Engineering — Part A: Individual Concepts (Colab-Ready)\n",
        "\n",
        "**Updated:** 2025-08-22\n",
        "\n",
        "This notebook is designed for **first-time learners**. You will practice each feature engineering step **individually** (no pipelines yet), so you can clearly see *what each step does* and *why it matters*.\n",
        "\n",
        "**What you'll practice:**\n",
        "- Dataset loading & quick audit\n",
        "- Handling missing values (drop, impute)\n",
        "- Scaling & normalization (standardization, min-max, per-row normalization)\n",
        "- Encoding categorical variables (ordinal vs one-hot)\n",
        "- Feature transformations (log, power, polynomial)\n",
        "- Simple dimensionality reduction (PCA) for visualization\n",
        "- Short exercises after each section\n",
        "\n",
        "> Use this Part A first. After you are comfortable, move to **Part B (Pipelines)** to automate and combine steps."
      ]
    },
    {
      "cell_type": "markdown",
      "id": "04499a3f",
      "metadata": {
        "id": "04499a3f"
      },
      "source": [
        "## 0) Setup"
      ]
    },
    {
      "cell_type": "code",
      "execution_count": 1,
      "id": "d1cd58db",
      "metadata": {
        "id": "d1cd58db"
      },
      "outputs": [],
      "source": [
        "# If running in Google Colab, you can install optional packages here:\n",
        "# !pip install -q statsmodels==0.14.2\n",
        "\n",
        "import numpy as np\n",
        "import pandas as pd\n",
        "import matplotlib.pyplot as plt\n",
        "\n",
        "from sklearn.impute import SimpleImputer, KNNImputer\n",
        "from sklearn.preprocessing import StandardScaler, MinMaxScaler, Normalizer, OrdinalEncoder\n",
        "from sklearn.preprocessing import PolynomialFeatures, PowerTransformer\n",
        "from sklearn.decomposition import PCA\n",
        "from sklearn.metrics import mean_squared_error\n",
        "\n",
        "pd.set_option('display.max_columns', 100)"
      ]
    },
    {
      "cell_type": "markdown",
      "id": "3de06ce7",
      "metadata": {
        "id": "3de06ce7"
      },
      "source": [
        "## 1) Dataset Setup & Quick Audit"
      ]
    },
    {
      "cell_type": "code",
      "execution_count": 2,
      "id": "8fda59e9",
      "metadata": {
        "colab": {
          "base_uri": "https://localhost:8080/",
          "height": 483
        },
        "id": "8fda59e9",
        "outputId": "d80f22b3-a49c-407e-8ccc-4568658b641e"
      },
      "outputs": [
        {
          "output_type": "stream",
          "name": "stdout",
          "text": [
            "Shape: (891, 12)\n"
          ]
        },
        {
          "output_type": "execute_result",
          "data": {
            "text/plain": [
              "   PassengerId  Survived  Pclass  \\\n",
              "0            1         0       3   \n",
              "1            2         1       1   \n",
              "2            3         1       3   \n",
              "3            4         1       1   \n",
              "4            5         0       3   \n",
              "\n",
              "                                                Name     Sex   Age  SibSp  \\\n",
              "0                            Braund, Mr. Owen Harris    male  22.0      1   \n",
              "1  Cumings, Mrs. John Bradley (Florence Briggs Th...  female  38.0      1   \n",
              "2                             Heikkinen, Miss. Laina  female  26.0      0   \n",
              "3       Futrelle, Mrs. Jacques Heath (Lily May Peel)  female  35.0      1   \n",
              "4                           Allen, Mr. William Henry    male  35.0      0   \n",
              "\n",
              "   Parch            Ticket     Fare Cabin Embarked  \n",
              "0      0         A/5 21171   7.2500   NaN        S  \n",
              "1      0          PC 17599  71.2833   C85        C  \n",
              "2      0  STON/O2. 3101282   7.9250   NaN        S  \n",
              "3      0            113803  53.1000  C123        S  \n",
              "4      0            373450   8.0500   NaN        S  "
            ],
            "text/html": [
              "\n",
              "  <div id=\"df-4c1eac47-e557-4a1a-af34-9bd654ad2a06\" class=\"colab-df-container\">\n",
              "    <div>\n",
              "<style scoped>\n",
              "    .dataframe tbody tr th:only-of-type {\n",
              "        vertical-align: middle;\n",
              "    }\n",
              "\n",
              "    .dataframe tbody tr th {\n",
              "        vertical-align: top;\n",
              "    }\n",
              "\n",
              "    .dataframe thead th {\n",
              "        text-align: right;\n",
              "    }\n",
              "</style>\n",
              "<table border=\"1\" class=\"dataframe\">\n",
              "  <thead>\n",
              "    <tr style=\"text-align: right;\">\n",
              "      <th></th>\n",
              "      <th>PassengerId</th>\n",
              "      <th>Survived</th>\n",
              "      <th>Pclass</th>\n",
              "      <th>Name</th>\n",
              "      <th>Sex</th>\n",
              "      <th>Age</th>\n",
              "      <th>SibSp</th>\n",
              "      <th>Parch</th>\n",
              "      <th>Ticket</th>\n",
              "      <th>Fare</th>\n",
              "      <th>Cabin</th>\n",
              "      <th>Embarked</th>\n",
              "    </tr>\n",
              "  </thead>\n",
              "  <tbody>\n",
              "    <tr>\n",
              "      <th>0</th>\n",
              "      <td>1</td>\n",
              "      <td>0</td>\n",
              "      <td>3</td>\n",
              "      <td>Braund, Mr. Owen Harris</td>\n",
              "      <td>male</td>\n",
              "      <td>22.0</td>\n",
              "      <td>1</td>\n",
              "      <td>0</td>\n",
              "      <td>A/5 21171</td>\n",
              "      <td>7.2500</td>\n",
              "      <td>NaN</td>\n",
              "      <td>S</td>\n",
              "    </tr>\n",
              "    <tr>\n",
              "      <th>1</th>\n",
              "      <td>2</td>\n",
              "      <td>1</td>\n",
              "      <td>1</td>\n",
              "      <td>Cumings, Mrs. John Bradley (Florence Briggs Th...</td>\n",
              "      <td>female</td>\n",
              "      <td>38.0</td>\n",
              "      <td>1</td>\n",
              "      <td>0</td>\n",
              "      <td>PC 17599</td>\n",
              "      <td>71.2833</td>\n",
              "      <td>C85</td>\n",
              "      <td>C</td>\n",
              "    </tr>\n",
              "    <tr>\n",
              "      <th>2</th>\n",
              "      <td>3</td>\n",
              "      <td>1</td>\n",
              "      <td>3</td>\n",
              "      <td>Heikkinen, Miss. Laina</td>\n",
              "      <td>female</td>\n",
              "      <td>26.0</td>\n",
              "      <td>0</td>\n",
              "      <td>0</td>\n",
              "      <td>STON/O2. 3101282</td>\n",
              "      <td>7.9250</td>\n",
              "      <td>NaN</td>\n",
              "      <td>S</td>\n",
              "    </tr>\n",
              "    <tr>\n",
              "      <th>3</th>\n",
              "      <td>4</td>\n",
              "      <td>1</td>\n",
              "      <td>1</td>\n",
              "      <td>Futrelle, Mrs. Jacques Heath (Lily May Peel)</td>\n",
              "      <td>female</td>\n",
              "      <td>35.0</td>\n",
              "      <td>1</td>\n",
              "      <td>0</td>\n",
              "      <td>113803</td>\n",
              "      <td>53.1000</td>\n",
              "      <td>C123</td>\n",
              "      <td>S</td>\n",
              "    </tr>\n",
              "    <tr>\n",
              "      <th>4</th>\n",
              "      <td>5</td>\n",
              "      <td>0</td>\n",
              "      <td>3</td>\n",
              "      <td>Allen, Mr. William Henry</td>\n",
              "      <td>male</td>\n",
              "      <td>35.0</td>\n",
              "      <td>0</td>\n",
              "      <td>0</td>\n",
              "      <td>373450</td>\n",
              "      <td>8.0500</td>\n",
              "      <td>NaN</td>\n",
              "      <td>S</td>\n",
              "    </tr>\n",
              "  </tbody>\n",
              "</table>\n",
              "</div>\n",
              "    <div class=\"colab-df-buttons\">\n",
              "\n",
              "  <div class=\"colab-df-container\">\n",
              "    <button class=\"colab-df-convert\" onclick=\"convertToInteractive('df-4c1eac47-e557-4a1a-af34-9bd654ad2a06')\"\n",
              "            title=\"Convert this dataframe to an interactive table.\"\n",
              "            style=\"display:none;\">\n",
              "\n",
              "  <svg xmlns=\"http://www.w3.org/2000/svg\" height=\"24px\" viewBox=\"0 -960 960 960\">\n",
              "    <path d=\"M120-120v-720h720v720H120Zm60-500h600v-160H180v160Zm220 220h160v-160H400v160Zm0 220h160v-160H400v160ZM180-400h160v-160H180v160Zm440 0h160v-160H620v160ZM180-180h160v-160H180v160Zm440 0h160v-160H620v160Z\"/>\n",
              "  </svg>\n",
              "    </button>\n",
              "\n",
              "  <style>\n",
              "    .colab-df-container {\n",
              "      display:flex;\n",
              "      gap: 12px;\n",
              "    }\n",
              "\n",
              "    .colab-df-convert {\n",
              "      background-color: #E8F0FE;\n",
              "      border: none;\n",
              "      border-radius: 50%;\n",
              "      cursor: pointer;\n",
              "      display: none;\n",
              "      fill: #1967D2;\n",
              "      height: 32px;\n",
              "      padding: 0 0 0 0;\n",
              "      width: 32px;\n",
              "    }\n",
              "\n",
              "    .colab-df-convert:hover {\n",
              "      background-color: #E2EBFA;\n",
              "      box-shadow: 0px 1px 2px rgba(60, 64, 67, 0.3), 0px 1px 3px 1px rgba(60, 64, 67, 0.15);\n",
              "      fill: #174EA6;\n",
              "    }\n",
              "\n",
              "    .colab-df-buttons div {\n",
              "      margin-bottom: 4px;\n",
              "    }\n",
              "\n",
              "    [theme=dark] .colab-df-convert {\n",
              "      background-color: #3B4455;\n",
              "      fill: #D2E3FC;\n",
              "    }\n",
              "\n",
              "    [theme=dark] .colab-df-convert:hover {\n",
              "      background-color: #434B5C;\n",
              "      box-shadow: 0px 1px 3px 1px rgba(0, 0, 0, 0.15);\n",
              "      filter: drop-shadow(0px 1px 2px rgba(0, 0, 0, 0.3));\n",
              "      fill: #FFFFFF;\n",
              "    }\n",
              "  </style>\n",
              "\n",
              "    <script>\n",
              "      const buttonEl =\n",
              "        document.querySelector('#df-4c1eac47-e557-4a1a-af34-9bd654ad2a06 button.colab-df-convert');\n",
              "      buttonEl.style.display =\n",
              "        google.colab.kernel.accessAllowed ? 'block' : 'none';\n",
              "\n",
              "      async function convertToInteractive(key) {\n",
              "        const element = document.querySelector('#df-4c1eac47-e557-4a1a-af34-9bd654ad2a06');\n",
              "        const dataTable =\n",
              "          await google.colab.kernel.invokeFunction('convertToInteractive',\n",
              "                                                    [key], {});\n",
              "        if (!dataTable) return;\n",
              "\n",
              "        const docLinkHtml = 'Like what you see? Visit the ' +\n",
              "          '<a target=\"_blank\" href=https://colab.research.google.com/notebooks/data_table.ipynb>data table notebook</a>'\n",
              "          + ' to learn more about interactive tables.';\n",
              "        element.innerHTML = '';\n",
              "        dataTable['output_type'] = 'display_data';\n",
              "        await google.colab.output.renderOutput(dataTable, element);\n",
              "        const docLink = document.createElement('div');\n",
              "        docLink.innerHTML = docLinkHtml;\n",
              "        element.appendChild(docLink);\n",
              "      }\n",
              "    </script>\n",
              "  </div>\n",
              "\n",
              "\n",
              "    <div id=\"df-b7b5e05d-b6c8-4196-b51b-56613ffebdb4\">\n",
              "      <button class=\"colab-df-quickchart\" onclick=\"quickchart('df-b7b5e05d-b6c8-4196-b51b-56613ffebdb4')\"\n",
              "                title=\"Suggest charts\"\n",
              "                style=\"display:none;\">\n",
              "\n",
              "<svg xmlns=\"http://www.w3.org/2000/svg\" height=\"24px\"viewBox=\"0 0 24 24\"\n",
              "     width=\"24px\">\n",
              "    <g>\n",
              "        <path d=\"M19 3H5c-1.1 0-2 .9-2 2v14c0 1.1.9 2 2 2h14c1.1 0 2-.9 2-2V5c0-1.1-.9-2-2-2zM9 17H7v-7h2v7zm4 0h-2V7h2v10zm4 0h-2v-4h2v4z\"/>\n",
              "    </g>\n",
              "</svg>\n",
              "      </button>\n",
              "\n",
              "<style>\n",
              "  .colab-df-quickchart {\n",
              "      --bg-color: #E8F0FE;\n",
              "      --fill-color: #1967D2;\n",
              "      --hover-bg-color: #E2EBFA;\n",
              "      --hover-fill-color: #174EA6;\n",
              "      --disabled-fill-color: #AAA;\n",
              "      --disabled-bg-color: #DDD;\n",
              "  }\n",
              "\n",
              "  [theme=dark] .colab-df-quickchart {\n",
              "      --bg-color: #3B4455;\n",
              "      --fill-color: #D2E3FC;\n",
              "      --hover-bg-color: #434B5C;\n",
              "      --hover-fill-color: #FFFFFF;\n",
              "      --disabled-bg-color: #3B4455;\n",
              "      --disabled-fill-color: #666;\n",
              "  }\n",
              "\n",
              "  .colab-df-quickchart {\n",
              "    background-color: var(--bg-color);\n",
              "    border: none;\n",
              "    border-radius: 50%;\n",
              "    cursor: pointer;\n",
              "    display: none;\n",
              "    fill: var(--fill-color);\n",
              "    height: 32px;\n",
              "    padding: 0;\n",
              "    width: 32px;\n",
              "  }\n",
              "\n",
              "  .colab-df-quickchart:hover {\n",
              "    background-color: var(--hover-bg-color);\n",
              "    box-shadow: 0 1px 2px rgba(60, 64, 67, 0.3), 0 1px 3px 1px rgba(60, 64, 67, 0.15);\n",
              "    fill: var(--button-hover-fill-color);\n",
              "  }\n",
              "\n",
              "  .colab-df-quickchart-complete:disabled,\n",
              "  .colab-df-quickchart-complete:disabled:hover {\n",
              "    background-color: var(--disabled-bg-color);\n",
              "    fill: var(--disabled-fill-color);\n",
              "    box-shadow: none;\n",
              "  }\n",
              "\n",
              "  .colab-df-spinner {\n",
              "    border: 2px solid var(--fill-color);\n",
              "    border-color: transparent;\n",
              "    border-bottom-color: var(--fill-color);\n",
              "    animation:\n",
              "      spin 1s steps(1) infinite;\n",
              "  }\n",
              "\n",
              "  @keyframes spin {\n",
              "    0% {\n",
              "      border-color: transparent;\n",
              "      border-bottom-color: var(--fill-color);\n",
              "      border-left-color: var(--fill-color);\n",
              "    }\n",
              "    20% {\n",
              "      border-color: transparent;\n",
              "      border-left-color: var(--fill-color);\n",
              "      border-top-color: var(--fill-color);\n",
              "    }\n",
              "    30% {\n",
              "      border-color: transparent;\n",
              "      border-left-color: var(--fill-color);\n",
              "      border-top-color: var(--fill-color);\n",
              "      border-right-color: var(--fill-color);\n",
              "    }\n",
              "    40% {\n",
              "      border-color: transparent;\n",
              "      border-right-color: var(--fill-color);\n",
              "      border-top-color: var(--fill-color);\n",
              "    }\n",
              "    60% {\n",
              "      border-color: transparent;\n",
              "      border-right-color: var(--fill-color);\n",
              "    }\n",
              "    80% {\n",
              "      border-color: transparent;\n",
              "      border-right-color: var(--fill-color);\n",
              "      border-bottom-color: var(--fill-color);\n",
              "    }\n",
              "    90% {\n",
              "      border-color: transparent;\n",
              "      border-bottom-color: var(--fill-color);\n",
              "    }\n",
              "  }\n",
              "</style>\n",
              "\n",
              "      <script>\n",
              "        async function quickchart(key) {\n",
              "          const quickchartButtonEl =\n",
              "            document.querySelector('#' + key + ' button');\n",
              "          quickchartButtonEl.disabled = true;  // To prevent multiple clicks.\n",
              "          quickchartButtonEl.classList.add('colab-df-spinner');\n",
              "          try {\n",
              "            const charts = await google.colab.kernel.invokeFunction(\n",
              "                'suggestCharts', [key], {});\n",
              "          } catch (error) {\n",
              "            console.error('Error during call to suggestCharts:', error);\n",
              "          }\n",
              "          quickchartButtonEl.classList.remove('colab-df-spinner');\n",
              "          quickchartButtonEl.classList.add('colab-df-quickchart-complete');\n",
              "        }\n",
              "        (() => {\n",
              "          let quickchartButtonEl =\n",
              "            document.querySelector('#df-b7b5e05d-b6c8-4196-b51b-56613ffebdb4 button');\n",
              "          quickchartButtonEl.style.display =\n",
              "            google.colab.kernel.accessAllowed ? 'block' : 'none';\n",
              "        })();\n",
              "      </script>\n",
              "    </div>\n",
              "\n",
              "    </div>\n",
              "  </div>\n"
            ],
            "application/vnd.google.colaboratory.intrinsic+json": {
              "type": "dataframe",
              "variable_name": "df",
              "summary": "{\n  \"name\": \"df\",\n  \"rows\": 891,\n  \"fields\": [\n    {\n      \"column\": \"PassengerId\",\n      \"properties\": {\n        \"dtype\": \"number\",\n        \"std\": 257,\n        \"min\": 1,\n        \"max\": 891,\n        \"num_unique_values\": 891,\n        \"samples\": [\n          710,\n          440,\n          841\n        ],\n        \"semantic_type\": \"\",\n        \"description\": \"\"\n      }\n    },\n    {\n      \"column\": \"Survived\",\n      \"properties\": {\n        \"dtype\": \"number\",\n        \"std\": 0,\n        \"min\": 0,\n        \"max\": 1,\n        \"num_unique_values\": 2,\n        \"samples\": [\n          1,\n          0\n        ],\n        \"semantic_type\": \"\",\n        \"description\": \"\"\n      }\n    },\n    {\n      \"column\": \"Pclass\",\n      \"properties\": {\n        \"dtype\": \"number\",\n        \"std\": 0,\n        \"min\": 1,\n        \"max\": 3,\n        \"num_unique_values\": 3,\n        \"samples\": [\n          3,\n          1\n        ],\n        \"semantic_type\": \"\",\n        \"description\": \"\"\n      }\n    },\n    {\n      \"column\": \"Name\",\n      \"properties\": {\n        \"dtype\": \"string\",\n        \"num_unique_values\": 891,\n        \"samples\": [\n          \"Moubarek, Master. Halim Gonios (\\\"William George\\\")\",\n          \"Kvillner, Mr. Johan Henrik Johannesson\"\n        ],\n        \"semantic_type\": \"\",\n        \"description\": \"\"\n      }\n    },\n    {\n      \"column\": \"Sex\",\n      \"properties\": {\n        \"dtype\": \"category\",\n        \"num_unique_values\": 2,\n        \"samples\": [\n          \"female\",\n          \"male\"\n        ],\n        \"semantic_type\": \"\",\n        \"description\": \"\"\n      }\n    },\n    {\n      \"column\": \"Age\",\n      \"properties\": {\n        \"dtype\": \"number\",\n        \"std\": 14.526497332334044,\n        \"min\": 0.42,\n        \"max\": 80.0,\n        \"num_unique_values\": 88,\n        \"samples\": [\n          0.75,\n          22.0\n        ],\n        \"semantic_type\": \"\",\n        \"description\": \"\"\n      }\n    },\n    {\n      \"column\": \"SibSp\",\n      \"properties\": {\n        \"dtype\": \"number\",\n        \"std\": 1,\n        \"min\": 0,\n        \"max\": 8,\n        \"num_unique_values\": 7,\n        \"samples\": [\n          1,\n          0\n        ],\n        \"semantic_type\": \"\",\n        \"description\": \"\"\n      }\n    },\n    {\n      \"column\": \"Parch\",\n      \"properties\": {\n        \"dtype\": \"number\",\n        \"std\": 0,\n        \"min\": 0,\n        \"max\": 6,\n        \"num_unique_values\": 7,\n        \"samples\": [\n          0,\n          1\n        ],\n        \"semantic_type\": \"\",\n        \"description\": \"\"\n      }\n    },\n    {\n      \"column\": \"Ticket\",\n      \"properties\": {\n        \"dtype\": \"string\",\n        \"num_unique_values\": 681,\n        \"samples\": [\n          \"11774\",\n          \"248740\"\n        ],\n        \"semantic_type\": \"\",\n        \"description\": \"\"\n      }\n    },\n    {\n      \"column\": \"Fare\",\n      \"properties\": {\n        \"dtype\": \"number\",\n        \"std\": 49.693428597180905,\n        \"min\": 0.0,\n        \"max\": 512.3292,\n        \"num_unique_values\": 248,\n        \"samples\": [\n          11.2417,\n          51.8625\n        ],\n        \"semantic_type\": \"\",\n        \"description\": \"\"\n      }\n    },\n    {\n      \"column\": \"Cabin\",\n      \"properties\": {\n        \"dtype\": \"category\",\n        \"num_unique_values\": 147,\n        \"samples\": [\n          \"D45\",\n          \"B49\"\n        ],\n        \"semantic_type\": \"\",\n        \"description\": \"\"\n      }\n    },\n    {\n      \"column\": \"Embarked\",\n      \"properties\": {\n        \"dtype\": \"category\",\n        \"num_unique_values\": 3,\n        \"samples\": [\n          \"S\",\n          \"C\"\n        ],\n        \"semantic_type\": \"\",\n        \"description\": \"\"\n      }\n    }\n  ]\n}"
            }
          },
          "metadata": {},
          "execution_count": 2
        }
      ],
      "source": [
        "# Option A: Load Titanic from a stable GitHub mirror (recommended for first run)\n",
        "URL = \"https://raw.githubusercontent.com/datasciencedojo/datasets/master/titanic.csv\"\n",
        "df = pd.read_csv(URL)\n",
        "print(\"Shape:\", df.shape)\n",
        "df.head()"
      ]
    },
    {
      "cell_type": "code",
      "execution_count": null,
      "id": "bd6588cc",
      "metadata": {
        "id": "bd6588cc"
      },
      "outputs": [],
      "source": [
        "# Option B: Upload your own CSV (uncomment to use in Colab)\n",
        "# from google.colab import files\n",
        "# up = files.upload()  # pick file\n",
        "# import io\n",
        "# df = pd.read_csv(io.BytesIO(up[list(up.keys())[0]]))\n",
        "# print(\"Shape:\", df.shape)\n",
        "# df.head()"
      ]
    },
    {
      "cell_type": "code",
      "execution_count": null,
      "id": "1020b508",
      "metadata": {
        "id": "1020b508"
      },
      "outputs": [],
      "source": [
        "# Quick audit\n",
        "print(\"\\nInfo:\")\n",
        "df.info()\n",
        "print(\"\\nMissing values per column:\")\n",
        "print(df.isna().sum().sort_values(ascending=False))\n",
        "print(\"\\nNumeric describe:\")\n",
        "df.describe().T"
      ]
    },
    {
      "cell_type": "markdown",
      "id": "84781f19",
      "metadata": {
        "id": "84781f19"
      },
      "source": [
        "## 2) Handling Missing Values (Individually)\n",
        "\n",
        "**Goal:** Learn when to **drop** vs **impute**.\n",
        "\n",
        "**Common choices**\n",
        "- Numeric: mean/median\n",
        "- Categorical: most frequent\n",
        "\n",
        "We'll practice on Titanic columns like `Age`, `Embarked`, and `Cabin`."
      ]
    },
    {
      "cell_type": "code",
      "execution_count": null,
      "id": "865e4694",
      "metadata": {
        "id": "865e4694"
      },
      "outputs": [],
      "source": [
        "# View null counts\n",
        "df.isna().sum().sort_values(ascending=False).head(10)"
      ]
    },
    {
      "cell_type": "code",
      "execution_count": null,
      "id": "32ae03bb",
      "metadata": {
        "id": "32ae03bb"
      },
      "outputs": [],
      "source": [
        "# 2.1 DROP example (use cautiously)\n",
        "df_drop_rows = df.dropna(subset=['Age', 'Embarked'])  # drop rows where these are null\n",
        "print(\"Original:\", df.shape, \"After drop:\", df_drop_rows.shape)"
      ]
    },
    {
      "cell_type": "code",
      "execution_count": null,
      "id": "1613fc7c",
      "metadata": {
        "id": "1613fc7c"
      },
      "outputs": [],
      "source": [
        "# 2.2 SIMPLE IMPUTE example\n",
        "df_imp = df.copy()\n",
        "# Numeric (Age): median\n",
        "df_imp['Age'] = df_imp['Age'].fillna(df_imp['Age'].median())\n",
        "# Categorical (Embarked): most frequent\n",
        "df_imp['Embarked'] = df_imp['Embarked'].fillna(df_imp['Embarked'].mode()[0])\n",
        "\n",
        "# 'Cabin' is very sparse; we can fill with \"Unknown\"\n",
        "df_imp['Cabin'] = df_imp['Cabin'].fillna('Unknown')\n",
        "\n",
        "df_imp.isna().sum().head(10)"
      ]
    },
    {
      "cell_type": "code",
      "execution_count": null,
      "id": "346a57b5",
      "metadata": {
        "id": "346a57b5"
      },
      "outputs": [],
      "source": [
        "# 2.3 KNN Imputation (numeric only demonstration)\n",
        "num_cols = df.select_dtypes(include=['number']).columns.tolist()\n",
        "knn_df = df[num_cols].copy()\n",
        "imputer = KNNImputer(n_neighbors=3)\n",
        "knn_imputed = imputer.fit_transform(knn_df)\n",
        "knn_imputed_df = pd.DataFrame(knn_imputed, columns=num_cols)\n",
        "knn_imputed_df.head()"
      ]
    },
    {
      "cell_type": "markdown",
      "id": "9902aff5",
      "metadata": {
        "id": "9902aff5"
      },
      "source": [
        "**📝 Exercise 2**\n",
        "1) Compare **mean vs median** imputation for `Age`. Which preserves the original distribution better?  \n",
        "2) For `Embarked`, try filling with a new category (`'Unknown'`) vs mode. What changes in `value_counts()`?"
      ]
    },
    {
      "cell_type": "markdown",
      "id": "acba27c3",
      "metadata": {
        "id": "acba27c3"
      },
      "source": [
        "## 3) Scaling & Normalization (Individually)\n",
        "\n",
        "- **Standardization**: z = (x - mean)/std (good for many ML models)\n",
        "- **MinMax scaling**: maps to [0,1] (useful when features have different units)\n",
        "- **Per-row Normalization**: scales each *row vector* to unit norm (useful for text-like frequency vectors)\n",
        "\n",
        "We'll demonstrate on `Fare` and `Age`."
      ]
    },
    {
      "cell_type": "code",
      "execution_count": null,
      "id": "4c5f5268",
      "metadata": {
        "id": "4c5f5268"
      },
      "outputs": [],
      "source": [
        "fig, axes = plt.subplots(1, 2, figsize=(10,4))\n",
        "axes[0].hist(df_imp['Age'].dropna(), bins=30)\n",
        "axes[0].set_title('Age - Raw')\n",
        "axes[1].hist(df_imp['Fare'].dropna(), bins=30)\n",
        "axes[1].set_title('Fare - Raw')\n",
        "plt.show()"
      ]
    },
    {
      "cell_type": "code",
      "execution_count": null,
      "id": "2196adb4",
      "metadata": {
        "id": "2196adb4"
      },
      "outputs": [],
      "source": [
        "sc_std = StandardScaler()\n",
        "sc_mm  = MinMaxScaler()\n",
        "\n",
        "age_std = sc_std.fit_transform(df_imp[['Age']])\n",
        "fare_mm = sc_mm.fit_transform(df_imp[['Fare']])\n",
        "\n",
        "fig, axes = plt.subplots(1, 2, figsize=(10,4))\n",
        "axes[0].hist(age_std.flatten(), bins=30)\n",
        "axes[0].set_title('Age - Standardized')\n",
        "axes[1].hist(fare_mm.flatten(), bins=30)\n",
        "axes[1].set_title('Fare - MinMax [0,1]')\n",
        "plt.show()"
      ]
    },
    {
      "cell_type": "markdown",
      "id": "34d456b1",
      "metadata": {
        "id": "34d456b1"
      },
      "source": [
        "**📝 Exercise 3**\n",
        "1) Standardize `Fare` and plot the histogram.  \n",
        "2) Apply **Normalizer** on `[Age, Fare]` rows and check the first 5 normalized vectors."
      ]
    },
    {
      "cell_type": "markdown",
      "id": "fdf2e146",
      "metadata": {
        "id": "fdf2e146"
      },
      "source": [
        "## 4) Encoding Categorical Variables (Individually)\n",
        "\n",
        "- **Ordinal/Label encoding**: map categories to integers (assumes order or used with tree models).  \n",
        "- **One-Hot encoding**: binary column per category (no order assumption).\n",
        "\n",
        "We'll use `Sex` and `Embarked` as examples."
      ]
    },
    {
      "cell_type": "code",
      "execution_count": null,
      "id": "8a961c29",
      "metadata": {
        "id": "8a961c29"
      },
      "outputs": [],
      "source": [
        "# 4.1 Ordinal encoding demo (note: no real order in Sex/Embarked; this is just to illustrate)\n",
        "enc = OrdinalEncoder()\n",
        "ord_demo = df_imp[['Sex','Embarked']].copy()\n",
        "ord_vals = enc.fit_transform(ord_demo)\n",
        "pd.DataFrame(ord_vals, columns=['Sex_ord','Embarked_ord']).head()"
      ]
    },
    {
      "cell_type": "code",
      "execution_count": null,
      "id": "fb67c353",
      "metadata": {
        "id": "fb67c353"
      },
      "outputs": [],
      "source": [
        "# 4.2 One-Hot encoding demo with pandas\n",
        "ohe_embarked = pd.get_dummies(df_imp['Embarked'], prefix='Embarked')\n",
        "ohe_sex = pd.get_dummies(df_imp['Sex'], prefix='Sex')\n",
        "encoded_df = pd.concat([df_imp[['Survived','Age','Fare']], ohe_sex, ohe_embarked], axis=1)\n",
        "encoded_df.head()"
      ]
    },
    {
      "cell_type": "markdown",
      "id": "5be0cd1f",
      "metadata": {
        "id": "5be0cd1f"
      },
      "source": [
        "**📝 Exercise 4**\n",
        "1) Compare the **number of features** produced by ordinal vs one-hot for `Embarked`.  \n",
        "2) Why might one-hot be safer for linear models?"
      ]
    },
    {
      "cell_type": "markdown",
      "id": "8c161dfa",
      "metadata": {
        "id": "8c161dfa"
      },
      "source": [
        "## 5) Feature Transformation (Individually)\n",
        "\n",
        "- **Log transform**: t = log1p(x) for right-skewed positive data (e.g., Fare).\n",
        "- **Power transform**: Yeo-Johnson can handle zero/negative values; stabilizes variance.\n",
        "- **Polynomial features**: create interactions/quadratics for simple non-linear modeling.\n",
        "\n",
        "We'll use `Fare` and `Age`."
      ]
    },
    {
      "cell_type": "code",
      "execution_count": null,
      "id": "1c5012b4",
      "metadata": {
        "id": "1c5012b4"
      },
      "outputs": [],
      "source": [
        "# 5.1 Log transform on Fare (positive values)\n",
        "fare_raw = df_imp['Fare'].dropna().values.reshape(-1,1)\n",
        "fare_log = np.log1p(fare_raw)\n",
        "\n",
        "fig, axes = plt.subplots(1, 2, figsize=(10,4))\n",
        "axes[0].hist(fare_raw.flatten(), bins=30)\n",
        "axes[0].set_title('Fare - Raw')\n",
        "axes[1].hist(fare_log.flatten(), bins=30)\n",
        "axes[1].set_title('Fare - log1p')\n",
        "plt.show()"
      ]
    },
    {
      "cell_type": "code",
      "execution_count": null,
      "id": "c8c34a54",
      "metadata": {
        "id": "c8c34a54"
      },
      "outputs": [],
      "source": [
        "# 5.2 Power transform (Yeo-Johnson) on [Age, Fare]\n",
        "pt = PowerTransformer(method='yeo-johnson')\n",
        "af = df_imp[['Age','Fare']].dropna()\n",
        "af_pt = pt.fit_transform(af)\n",
        "\n",
        "fig, axes = plt.subplots(1, 2, figsize=(10,4))\n",
        "axes[0].hist(af['Age'].values, bins=30)\n",
        "axes[0].set_title('Age - Raw')\n",
        "axes[1].hist(af_pt[:,0], bins=30)\n",
        "axes[1].set_title('Age - Yeo-Johnson')\n",
        "plt.show()"
      ]
    },
    {
      "cell_type": "code",
      "execution_count": null,
      "id": "b4d9c780",
      "metadata": {
        "id": "b4d9c780"
      },
      "outputs": [],
      "source": [
        "# 5.3 Polynomial features on [Age, Fare] (degree=2)\n",
        "poly = PolynomialFeatures(degree=2, include_bias=False)\n",
        "af_poly = poly.fit_transform(af[['Age','Fare']])\n",
        "print(\"Original shape:\", af[['Age','Fare']].shape, \" -> With poly:\", af_poly.shape)\n",
        "poly.get_feature_names_out(['Age','Fare'])[:6]"
      ]
    },
    {
      "cell_type": "markdown",
      "id": "86f15002",
      "metadata": {
        "id": "86f15002"
      },
      "source": [
        "**📝 Exercise 5**\n",
        "1) Identify one numeric column that is **skewed**. Try both **log** and **power** transforms and compare histograms.  \n",
        "2) With `PolynomialFeatures(2)`, which new terms are created from `Age` and `Fare`?"
      ]
    },
    {
      "cell_type": "markdown",
      "id": "8b550f5f",
      "metadata": {
        "id": "8b550f5f"
      },
      "source": [
        "## 6) Simple Dimensionality Reduction (PCA) — Visualization Only\n",
        "\n",
        "We will apply PCA to **numeric** features to reduce to 2D and make a scatter plot colored by `Survived` (if present).\n",
        "\n",
        "> Note: This is for **intuition/visualization** only in Part A."
      ]
    },
    {
      "cell_type": "code",
      "execution_count": null,
      "id": "888f66b0",
      "metadata": {
        "id": "888f66b0"
      },
      "outputs": [],
      "source": [
        "# Prepare a numeric-only frame (drop NA for simplicity here)\n",
        "num_only = df_imp.select_dtypes(include=['number']).dropna()\n",
        "y = df_imp.loc[num_only.index, 'Survived'] if 'Survived' in df_imp.columns else None\n",
        "\n",
        "pca = PCA(n_components=2, random_state=42)\n",
        "Z = pca.fit_transform(num_only.values)\n",
        "\n",
        "print(\"Explained variance ratios:\", pca.explained_variance_ratio_)\n",
        "\n",
        "# Plot\n",
        "plt.figure(figsize=(6,5))\n",
        "if y is not None:\n",
        "    # Color by Survived (0/1). Using a simple split to avoid specifying colors.\n",
        "    idx0 = (y.values == 0)\n",
        "    idx1 = (y.values == 1)\n",
        "    plt.scatter(Z[idx0,0], Z[idx0,1], s=10, label='Survived=0')\n",
        "    plt.scatter(Z[idx1,0], Z[idx1,1], s=10, label='Survived=1')\n",
        "    plt.legend()\n",
        "else:\n",
        "    plt.scatter(Z[:,0], Z[:,1], s=10)\n",
        "plt.xlabel('PC1'); plt.ylabel('PC2'); plt.title('PCA (numeric only)')\n",
        "plt.show()"
      ]
    },
    {
      "cell_type": "markdown",
      "id": "ade92af5",
      "metadata": {
        "id": "ade92af5"
      },
      "source": [
        "**📝 Exercise 6**\n",
        "1) Which **two numeric columns** contribute the most variance before PCA (use `df.var()`)?  \n",
        "2) Try PCA with `n_components=3` and print the cumulative explained variance."
      ]
    },
    {
      "cell_type": "markdown",
      "id": "2d52dd9c",
      "metadata": {
        "id": "2d52dd9c"
      },
      "source": [
        "## 7) Consolidated Practice (No Pipelines Yet)\n",
        "\n",
        "Using the operations you've learned, perform a **clean preprocessing** (manually):\n",
        "1) Impute: `Age` (median), `Embarked` (mode), `Cabin` ('Unknown').  \n",
        "2) Scale: standardize `Age` and min-max scale `Fare`.  \n",
        "3) Encode: one-hot `Sex` and `Embarked`.  \n",
        "4) Transform: log1p `Fare`.  \n",
        "5) (Optional) PCA on numeric subset for 2D visualization.\n",
        "\n",
        "Then, answer:\n",
        "- Which step **changed the data distribution** the most?\n",
        "- Which encoding produced **more features**, ordinal or one-hot? Why?\n",
        "- If you trained a simple logistic regression on your manually processed features, what **accuracy** do you get on a 75/25 split? (Optional challenge)"
      ]
    },
    {
      "cell_type": "markdown",
      "id": "6e7413b3",
      "metadata": {
        "id": "6e7413b3"
      },
      "source": [
        "## ✅ What You Should Take Away from Part A\n",
        "\n",
        "- Each step (imputation, scaling, encoding, transforms) has a **clear purpose** and **visible effect**.  \n",
        "- You can now apply them **manually** and reason about their impact.  \n",
        "- Next: move to **Part B (Pipelines)** to **combine & automate** these steps safely (avoid leakage, enable cross-validation, and reproducibility)."
      ]
    }
  ],
  "metadata": {
    "colab": {
      "provenance": [],
      "include_colab_link": true
    },
    "language_info": {
      "name": "python"
    },
    "kernelspec": {
      "name": "python3",
      "display_name": "Python 3"
    }
  },
  "nbformat": 4,
  "nbformat_minor": 5
}